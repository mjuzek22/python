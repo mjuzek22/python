{
  "nbformat": 4,
  "nbformat_minor": 0,
  "metadata": {
    "colab": {
      "name": "Homework#2_Monika_Juzek.ipynb",
      "provenance": [],
      "collapsed_sections": [],
      "authorship_tag": "ABX9TyO0ayFaSlJ7ubBcXTCRCFQp",
      "include_colab_link": true
    },
    "kernelspec": {
      "name": "python3",
      "display_name": "Python 3"
    }
  },
  "cells": [
    {
      "cell_type": "markdown",
      "metadata": {
        "id": "view-in-github",
        "colab_type": "text"
      },
      "source": [
        "<a href=\"https://colab.research.google.com/github/mjuzek22/python/blob/master/Homework_2_Monika_Juzek.ipynb\" target=\"_parent\"><img src=\"https://colab.research.google.com/assets/colab-badge.svg\" alt=\"Open In Colab\"/></a>"
      ]
    },
    {
      "cell_type": "code",
      "metadata": {
        "id": "bkFXEniDi3oa",
        "outputId": "0f48376f-1edf-4ca6-d432-913ccbdc8b21",
        "colab": {
          "base_uri": "https://localhost:8080/"
        }
      },
      "source": [
        "# PESEL GENERATOR\n",
        "\n",
        "import numpy as np\n",
        "\n",
        "\n",
        "n = 40000000\n",
        "year = np.random.randint(low=1880, high=2020, size=n)\n",
        "month = np.random.randint(low=1, high=12, size=n)\n",
        "day = np.random.randint(low=1, high=30, size=n)\n",
        "ser_1 = np.random.randint(low=0, high=9, size=n)\n",
        "ser_2 = np.random.randint(low=0, high=9, size=n)\n",
        "ser_3 = np.random.randint(low=0, high=9, size=n)\n",
        "sex = np.random.randint(low=0, high=9, size=n)\n",
        "\n",
        "#Year adjustment \n",
        "month[(year - 1800) < 100 ] = np.random.randint(low=81, high=92, size=np.sum((year - 1800) < 100))\n",
        "month[(year - 1900) > 99 ] = np.random.randint(low=21, high=32, size=np.sum((year - 1900) > 99))\n",
        "\n",
        "#Correct number of days in each month\n",
        "day[(month % 20 == 1)] = np.random.randint(low=1, high=31, size=np.sum(month % 20 == 1))\n",
        "day[(month % 20 == 2)] = np.random.randint(low=1, high=28, size=np.sum(month % 20 == 2))\n",
        "day[(month % 20 == 3)] = np.random.randint(low=1, high=31, size=np.sum(month % 20 == 3))\n",
        "day[(month % 20 == 5)] = np.random.randint(low=1, high=31, size=np.sum(month % 20 == 5))\n",
        "day[(month % 20 == 7)] = np.random.randint(low=1, high=31, size=np.sum(month % 20 == 7))\n",
        "day[(month % 20 == 8)] = np.random.randint(low=1, high=31, size=np.sum(month % 20 == 8) )\n",
        "day[(month % 20 == 10)] = np.random.randint(low=1, high=31, size=np.sum(month % 20 == 10))\n",
        "day[(month % 20 == 12)] = np.random.randint(low=1, high=31, size=np.sum(month % 20 == 12))\n",
        "\n",
        "\n",
        "#Leap years\n",
        "day[(((year % 4 == 0) & (year % 100 != 0)) | (year % 400 == 0)) & (month % 20 == 2)] = np.random.randint(low=1, high=29, size=np.sum((((year % 4 == 0) & (year % 100 != 0)) | (year % 400 == 0)) & (month % 20 == 2)))\n",
        "\n",
        "year = year % 100\n",
        "# Checksum\n",
        "control = (year//10) + 3*(year%10)\n",
        "control += 7*(month//10) + 9*(month%10)\n",
        "control += (day//10) + 3*(day%10)\n",
        "control += 7*(ser_1//10) + 9*(ser_1%10)\n",
        "control += (ser_2//10) + 3*(ser_2%10)\n",
        "control += 7*(ser_3//10) + 9*(ser_3%10)\n",
        "control += (sex//10) + 3*(sex%10)\n",
        "\n",
        "control = (10 - (control % 10)) % 10\n",
        "\n",
        "\n",
        "pesel_db = 1000000000*(year) + 10000000*month + 100000*day + 10000*ser_1 + 1000*ser_2 + 100*ser_3 +  10*sex + control\n",
        "\n",
        "#Unable duplicates\n",
        "pesel_db_cor = np.unique(pesel_db, axis=0)\n",
        "\n",
        "\n"
      ],
      "execution_count": 3,
      "outputs": [
        {
          "output_type": "stream",
          "text": [
            "CPU times: user 434 ms, sys: 659 ms, total: 1.09 s\n",
            "Wall time: 1.09 s\n",
            "CPU times: user 447 ms, sys: 814 µs, total: 448 ms\n",
            "Wall time: 448 ms\n",
            "CPU times: user 4.03 s, sys: 13 ms, total: 4.05 s\n",
            "Wall time: 4.05 s\n",
            "37418320\n"
          ],
          "name": "stdout"
        }
      ]
    },
    {
      "cell_type": "code",
      "metadata": {
        "id": "9Ooy27BAG4lh",
        "outputId": "94710728-07c4-499c-ebad-8842b2d2427a",
        "colab": {
          "base_uri": "https://localhost:8080/"
        }
      },
      "source": [
        "#Vibration of the number\n",
        "\n",
        "def vibration(n):\n",
        "  n_str = np.char.mod('%d',n)\n",
        "  vib = np.zeros(len(n_str))\n",
        "  vib = vib.astype(int)\n",
        "  for x in range(len(n_str)):\n",
        "    vib[x] = int(sum(int(d) for d in n_str[x]))\n",
        "    while ( vib[x] > 9):\n",
        "\n",
        "      #print(type(vib[x]))\n",
        "      vib_temp = str(vib[x])\n",
        "      vib[x] = sum(int(d) for d in vib_temp)\n",
        "    \n",
        "  return vib\n",
        "\n",
        "vibration(pesel_db_cor)\n",
        "\n",
        "\n",
        "\n"
      ],
      "execution_count": 27,
      "outputs": [
        {
          "output_type": "execute_result",
          "data": {
            "text/plain": [
              "array([1, 8, 8, ..., 1, 4, 3])"
            ]
          },
          "metadata": {
            "tags": []
          },
          "execution_count": 27
        }
      ]
    }
  ]
}